{
 "cells": [
  {
   "cell_type": "code",
   "execution_count": 3,
   "id": "120fe219",
   "metadata": {},
   "outputs": [],
   "source": [
    "#importing all the required modules\n",
    "import numpy as np\n",
    "import pandas as pd\n",
    "from matplotlib import pyplot as plt\n",
    "import seaborn as sns"
   ]
  },
  {
   "cell_type": "code",
   "execution_count": 4,
   "id": "7199b061",
   "metadata": {},
   "outputs": [],
   "source": [
    "#importing the excel file \n",
    "procat = pd.read_excel('missionED.xlsx')"
   ]
  },
  {
   "cell_type": "markdown",
   "id": "3df0d5e0",
   "metadata": {},
   "source": [
    "# 1 Understanding the dataset"
   ]
  },
  {
   "cell_type": "code",
   "execution_count": 4,
   "id": "16a06463",
   "metadata": {},
   "outputs": [
    {
     "data": {
      "text/html": [
       "<div>\n",
       "<style scoped>\n",
       "    .dataframe tbody tr th:only-of-type {\n",
       "        vertical-align: middle;\n",
       "    }\n",
       "\n",
       "    .dataframe tbody tr th {\n",
       "        vertical-align: top;\n",
       "    }\n",
       "\n",
       "    .dataframe thead th {\n",
       "        text-align: right;\n",
       "    }\n",
       "</style>\n",
       "<table border=\"1\" class=\"dataframe\">\n",
       "  <thead>\n",
       "    <tr style=\"text-align: right;\">\n",
       "      <th></th>\n",
       "      <th>Gender</th>\n",
       "      <th>Age</th>\n",
       "      <th>State</th>\n",
       "      <th>City</th>\n",
       "      <th>Product category</th>\n",
       "    </tr>\n",
       "  </thead>\n",
       "  <tbody>\n",
       "    <tr>\n",
       "      <th>0</th>\n",
       "      <td>Male</td>\n",
       "      <td>22</td>\n",
       "      <td>Delhi</td>\n",
       "      <td>Tier-I</td>\n",
       "      <td>Fire bolt headphones</td>\n",
       "    </tr>\n",
       "    <tr>\n",
       "      <th>1</th>\n",
       "      <td>Female</td>\n",
       "      <td>38</td>\n",
       "      <td>Maharashtra</td>\n",
       "      <td>Tier-I</td>\n",
       "      <td>pTron lite earphones</td>\n",
       "    </tr>\n",
       "    <tr>\n",
       "      <th>2</th>\n",
       "      <td>Female</td>\n",
       "      <td>26</td>\n",
       "      <td>West Bengal</td>\n",
       "      <td>Tier-I</td>\n",
       "      <td>Color fit pro smartwatch</td>\n",
       "    </tr>\n",
       "    <tr>\n",
       "      <th>3</th>\n",
       "      <td>Female</td>\n",
       "      <td>35</td>\n",
       "      <td>Karnataka</td>\n",
       "      <td>Tier-III</td>\n",
       "      <td>Men's shoes sneakers</td>\n",
       "    </tr>\n",
       "    <tr>\n",
       "      <th>4</th>\n",
       "      <td>Male</td>\n",
       "      <td>35</td>\n",
       "      <td>Tamil Nadu</td>\n",
       "      <td>Tier-III</td>\n",
       "      <td>Color fit pro smartwatch</td>\n",
       "    </tr>\n",
       "  </tbody>\n",
       "</table>\n",
       "</div>"
      ],
      "text/plain": [
       "   Gender  Age        State      City         Product category \n",
       "0    Male   22        Delhi    Tier-I      Fire bolt headphones\n",
       "1  Female   38  Maharashtra    Tier-I     pTron lite earphones \n",
       "2  Female   26  West Bengal    Tier-I  Color fit pro smartwatch\n",
       "3  Female   35    Karnataka  Tier-III      Men's shoes sneakers\n",
       "4    Male   35   Tamil Nadu  Tier-III  Color fit pro smartwatch"
      ]
     },
     "execution_count": 4,
     "metadata": {},
     "output_type": "execute_result"
    }
   ],
   "source": [
    "#show first five rows \n",
    "procat.head()"
   ]
  },
  {
   "cell_type": "code",
   "execution_count": 5,
   "id": "303c73a0",
   "metadata": {},
   "outputs": [
    {
     "data": {
      "text/html": [
       "<div>\n",
       "<style scoped>\n",
       "    .dataframe tbody tr th:only-of-type {\n",
       "        vertical-align: middle;\n",
       "    }\n",
       "\n",
       "    .dataframe tbody tr th {\n",
       "        vertical-align: top;\n",
       "    }\n",
       "\n",
       "    .dataframe thead th {\n",
       "        text-align: right;\n",
       "    }\n",
       "</style>\n",
       "<table border=\"1\" class=\"dataframe\">\n",
       "  <thead>\n",
       "    <tr style=\"text-align: right;\">\n",
       "      <th></th>\n",
       "      <th>Gender</th>\n",
       "      <th>Age</th>\n",
       "      <th>State</th>\n",
       "      <th>City</th>\n",
       "      <th>Product category</th>\n",
       "    </tr>\n",
       "  </thead>\n",
       "  <tbody>\n",
       "    <tr>\n",
       "      <th>195</th>\n",
       "      <td>Female</td>\n",
       "      <td>26</td>\n",
       "      <td>Andhra Pradesh</td>\n",
       "      <td>Tier-III</td>\n",
       "      <td>Fogg perfume for men</td>\n",
       "    </tr>\n",
       "    <tr>\n",
       "      <th>196</th>\n",
       "      <td>Female</td>\n",
       "      <td>24</td>\n",
       "      <td>West Bengal</td>\n",
       "      <td>Tier-I</td>\n",
       "      <td>Men's shoes sneakers</td>\n",
       "    </tr>\n",
       "    <tr>\n",
       "      <th>197</th>\n",
       "      <td>Male</td>\n",
       "      <td>54</td>\n",
       "      <td>Maharashtra</td>\n",
       "      <td>Tier-III</td>\n",
       "      <td>Fire bolt headphones</td>\n",
       "    </tr>\n",
       "    <tr>\n",
       "      <th>198</th>\n",
       "      <td>Female</td>\n",
       "      <td>31</td>\n",
       "      <td>Uttar Pradesh</td>\n",
       "      <td>Tier-II</td>\n",
       "      <td>Fire bolt headphones</td>\n",
       "    </tr>\n",
       "    <tr>\n",
       "      <th>199</th>\n",
       "      <td>Female</td>\n",
       "      <td>40</td>\n",
       "      <td>West Bengal</td>\n",
       "      <td>Tier-I</td>\n",
       "      <td>Fire bolt headphones</td>\n",
       "    </tr>\n",
       "  </tbody>\n",
       "</table>\n",
       "</div>"
      ],
      "text/plain": [
       "     Gender  Age           State      City     Product category \n",
       "195  Female   26  Andhra Pradesh  Tier-III  Fogg perfume for men\n",
       "196  Female   24     West Bengal    Tier-I  Men's shoes sneakers\n",
       "197    Male   54     Maharashtra  Tier-III  Fire bolt headphones\n",
       "198  Female   31   Uttar Pradesh   Tier-II  Fire bolt headphones\n",
       "199  Female   40     West Bengal    Tier-I  Fire bolt headphones"
      ]
     },
     "execution_count": 5,
     "metadata": {},
     "output_type": "execute_result"
    }
   ],
   "source": [
    "#show last five rows\n",
    "procat.tail()"
   ]
  },
  {
   "cell_type": "code",
   "execution_count": 6,
   "id": "a048dbec",
   "metadata": {},
   "outputs": [
    {
     "data": {
      "text/html": [
       "<div>\n",
       "<style scoped>\n",
       "    .dataframe tbody tr th:only-of-type {\n",
       "        vertical-align: middle;\n",
       "    }\n",
       "\n",
       "    .dataframe tbody tr th {\n",
       "        vertical-align: top;\n",
       "    }\n",
       "\n",
       "    .dataframe thead th {\n",
       "        text-align: right;\n",
       "    }\n",
       "</style>\n",
       "<table border=\"1\" class=\"dataframe\">\n",
       "  <thead>\n",
       "    <tr style=\"text-align: right;\">\n",
       "      <th></th>\n",
       "      <th>Age</th>\n",
       "    </tr>\n",
       "  </thead>\n",
       "  <tbody>\n",
       "    <tr>\n",
       "      <th>count</th>\n",
       "      <td>200.000000</td>\n",
       "    </tr>\n",
       "    <tr>\n",
       "      <th>mean</th>\n",
       "      <td>29.960000</td>\n",
       "    </tr>\n",
       "    <tr>\n",
       "      <th>std</th>\n",
       "      <td>9.944994</td>\n",
       "    </tr>\n",
       "    <tr>\n",
       "      <th>min</th>\n",
       "      <td>16.000000</td>\n",
       "    </tr>\n",
       "    <tr>\n",
       "      <th>25%</th>\n",
       "      <td>22.000000</td>\n",
       "    </tr>\n",
       "    <tr>\n",
       "      <th>50%</th>\n",
       "      <td>28.000000</td>\n",
       "    </tr>\n",
       "    <tr>\n",
       "      <th>75%</th>\n",
       "      <td>36.000000</td>\n",
       "    </tr>\n",
       "    <tr>\n",
       "      <th>max</th>\n",
       "      <td>55.000000</td>\n",
       "    </tr>\n",
       "  </tbody>\n",
       "</table>\n",
       "</div>"
      ],
      "text/plain": [
       "              Age\n",
       "count  200.000000\n",
       "mean    29.960000\n",
       "std      9.944994\n",
       "min     16.000000\n",
       "25%     22.000000\n",
       "50%     28.000000\n",
       "75%     36.000000\n",
       "max     55.000000"
      ]
     },
     "execution_count": 6,
     "metadata": {},
     "output_type": "execute_result"
    }
   ],
   "source": [
    "#give basic info about the numerical values\n",
    "procat.describe()"
   ]
  },
  {
   "cell_type": "code",
   "execution_count": 9,
   "id": "ac1fce2b",
   "metadata": {},
   "outputs": [
    {
     "data": {
      "text/plain": [
       "(200, 5)"
      ]
     },
     "execution_count": 9,
     "metadata": {},
     "output_type": "execute_result"
    }
   ],
   "source": [
    "#show no. of rows and column \n",
    "procat.shape"
   ]
  },
  {
   "cell_type": "code",
   "execution_count": 5,
   "id": "6ad583cf",
   "metadata": {},
   "outputs": [
    {
     "data": {
      "text/plain": [
       "1000"
      ]
     },
     "execution_count": 5,
     "metadata": {},
     "output_type": "execute_result"
    }
   ],
   "source": [
    "#to fetch the total no. of cells used \n",
    "procat.size"
   ]
  },
  {
   "cell_type": "code",
   "execution_count": 10,
   "id": "df2e5734",
   "metadata": {},
   "outputs": [
    {
     "data": {
      "text/plain": [
       "Index(['Gender', 'Age', 'State', 'City', 'Product category '], dtype='object')"
      ]
     },
     "execution_count": 10,
     "metadata": {},
     "output_type": "execute_result"
    }
   ],
   "source": [
    "#dilplay the name of the columns \n",
    "procat.columns"
   ]
  },
  {
   "cell_type": "code",
   "execution_count": 11,
   "id": "e8424483",
   "metadata": {},
   "outputs": [
    {
     "data": {
      "text/plain": [
       "Gender                2\n",
       "Age                  38\n",
       "State                26\n",
       "City                  3\n",
       "Product category      8\n",
       "dtype: int64"
      ]
     },
     "execution_count": 11,
     "metadata": {},
     "output_type": "execute_result"
    }
   ],
   "source": [
    "#show the number of unique values in each column\n",
    "procat.nunique()"
   ]
  },
  {
   "cell_type": "code",
   "execution_count": 18,
   "id": "8c9a172c",
   "metadata": {},
   "outputs": [
    {
     "data": {
      "text/plain": [
       "array(['Fire bolt headphones', 'pTron lite earphones ',\n",
       "       'Color fit pro smartwatch', \"Men's shoes sneakers\",\n",
       "       'Fifty shades of Grey ', 'Leather wallet for men',\n",
       "       'Fogg perfume for men', 'Amazon Prime subscription'], dtype=object)"
      ]
     },
     "execution_count": 18,
     "metadata": {},
     "output_type": "execute_result"
    }
   ],
   "source": [
    "#show the unique values of a particular culumn  \n",
    "procat['Product category '].unique()"
   ]
  },
  {
   "cell_type": "code",
   "execution_count": 6,
   "id": "302a3855",
   "metadata": {},
   "outputs": [
    {
     "data": {
      "text/plain": [
       "Index                 128\n",
       "Gender               1600\n",
       "Age                  1600\n",
       "State                1600\n",
       "City                 1600\n",
       "Product category     1600\n",
       "dtype: int64"
      ]
     },
     "execution_count": 6,
     "metadata": {},
     "output_type": "execute_result"
    }
   ],
   "source": [
    "#show memory usage of each column in bytes\n",
    "procat.memory_usage()"
   ]
  },
  {
   "cell_type": "markdown",
   "id": "19f4c225",
   "metadata": {},
   "source": [
    "# 2 Cleaning the data"
   ]
  },
  {
   "cell_type": "code",
   "execution_count": 8,
   "id": "d4891169",
   "metadata": {},
   "outputs": [
    {
     "data": {
      "text/plain": [
       "Gender               0\n",
       "Age                  0\n",
       "State                0\n",
       "City                 0\n",
       "Product category     0\n",
       "dtype: int64"
      ]
     },
     "execution_count": 8,
     "metadata": {},
     "output_type": "execute_result"
    }
   ],
   "source": [
    "#show total number of null values in each column\n",
    "procat.isnull().sum()"
   ]
  },
  {
   "cell_type": "code",
   "execution_count": null,
   "id": "4819031b",
   "metadata": {},
   "outputs": [],
   "source": [
    "# since there isn't any null values so we don't need to remove any rows and even we don't have any unnecessary columns."
   ]
  },
  {
   "cell_type": "markdown",
   "id": "045f923a",
   "metadata": {},
   "source": [
    "# 3 Analysing the data"
   ]
  },
  {
   "cell_type": "code",
   "execution_count": 5,
   "id": "8451ed68",
   "metadata": {},
   "outputs": [],
   "source": [
    "#show the pairwise correlation of all columns\n",
    "corelation = procat.corr()\n",
    "#any non-numeric data type columns in the dataframe it is ignored."
   ]
  },
  {
   "cell_type": "code",
   "execution_count": 11,
   "id": "8b87b9e7",
   "metadata": {},
   "outputs": [
    {
     "data": {
      "text/plain": [
       "<AxesSubplot:>"
      ]
     },
     "execution_count": 11,
     "metadata": {},
     "output_type": "execute_result"
    },
    {
     "data": {
      "image/png": "[encoded data removed]",
      "text/plain": [
       "<Figure size 432x288 with 2 Axes>"
      ]
     },
     "metadata": {
      "needs_background": "light"
     },
     "output_type": "display_data"
    }
   ],
   "source": [
    "sns.heatmap(corelation, xticklabels=corelation.columns, yticklabels=corelation.columns,annot=True)"
   ]
  },
  {
   "cell_type": "code",
   "execution_count": 22,
   "id": "72e2b1a1",
   "metadata": {},
   "outputs": [
    {
     "data": {
      "text/plain": [
       "<seaborn.axisgrid.PairGrid at 0x2291ae3ba60>"
      ]
     },
     "execution_count": 22,
     "metadata": {},
     "output_type": "execute_result"
    },
    {
     "data": {
      "image/png": "[encoded data removed]",
      "text/plain": [
       "<Figure size 180x180 with 2 Axes>"
      ]
     },
     "metadata": {
      "needs_background": "light"
     },
     "output_type": "display_data"
    }
   ],
   "source": [
    "# plot multiple pairwise bivariate distributions in a dataset\n",
    "sns.pairplot(procat)\n",
    "#only age is a numeric value column in our dataset"
   ]
  },
  {
   "cell_type": "code",
   "execution_count": 20,
   "id": "66372312",
   "metadata": {},
   "outputs": [
    {
     "name": "stderr",
     "output_type": "stream",
     "text": [
      "C:\\Users\\Hp\\anaconda3\\lib\\site-packages\\seaborn\\distributions.py:2557: FutureWarning: `distplot` is a deprecated function and will be removed in a future version. Please adapt your code to use either `displot` (a figure-level function with similar flexibility) or `histplot` (an axes-level function for histograms).\n",
      "  warnings.warn(msg, FutureWarning)\n"
     ]
    },
    {
     "data": {
      "text/plain": [
       "<AxesSubplot:xlabel='Age', ylabel='Density'>"
      ]
     },
     "execution_count": 20,
     "metadata": {},
     "output_type": "execute_result"
    },
    {
     "data": {
      "image/png": "[encoded data removed]",
      "text/plain": [
       "<Figure size 432x288 with 1 Axes>"
      ]
     },
     "metadata": {
      "needs_background": "light"
     },
     "output_type": "display_data"
    }
   ],
   "source": [
    "#show numerical column in a histogram\n",
    "sns.distplot(procat['Age'])"
   ]
  },
  {
   "cell_type": "code",
   "execution_count": 22,
   "id": "804406b7",
   "metadata": {},
   "outputs": [
    {
     "data": {
      "text/plain": [
       "<seaborn.axisgrid.FacetGrid at 0x1c4a489ef10>"
      ]
     },
     "execution_count": 22,
     "metadata": {},
     "output_type": "execute_result"
    },
    {
     "data": {
      "image/png": "[encoded data removed]",
      "text/plain": [
       "<Figure size 360x360 with 1 Axes>"
      ]
     },
     "metadata": {
      "needs_background": "light"
     },
     "output_type": "display_data"
    }
   ],
   "source": [
    "#Used box plot , just to check the outliers possibility \n",
    "sns.catplot(x='Age',kind='box',data=procat)"
   ]
  },
  {
   "cell_type": "code",
   "execution_count": 23,
   "id": "e93f7321",
   "metadata": {
    "scrolled": true
   },
   "outputs": [
    {
     "data": {
      "text/plain": [
       "<function matplotlib.pyplot.show(close=None, block=None)>"
      ]
     },
     "execution_count": 23,
     "metadata": {},
     "output_type": "execute_result"
    },
    {
     "data": {
      "image/png": "[encoded data removed]",
      "text/plain": [
       "<Figure size 432x288 with 1 Axes>"
      ]
     },
     "metadata": {
      "needs_background": "light"
     },
     "output_type": "display_data"
    }
   ],
   "source": [
    "plt.hist(procat['Age'],histtype ='bar',color='orange')\n",
    "plt.show"
   ]
  },
  {
   "cell_type": "code",
   "execution_count": 41,
   "id": "fd694465",
   "metadata": {},
   "outputs": [
    {
     "data": {
      "text/plain": [
       "Male      127\n",
       "Female     73\n",
       "Name: Gender, dtype: int64"
      ]
     },
     "execution_count": 41,
     "metadata": {},
     "output_type": "execute_result"
    }
   ],
   "source": [
    "procat['Gender'].value_counts()+"
   ]
  },
  {
   "cell_type": "code",
   "execution_count": 47,
   "id": "9a23d797",
   "metadata": {},
   "outputs": [
    {
     "data": {
      "text/plain": [
       "Maharashtra       26\n",
       "Uttar Pradesh     24\n",
       "West Bengal       21\n",
       "Andhra Pradesh    15\n",
       "Karnataka         14\n",
       "Tamil Nadu        12\n",
       "Rajasthan         11\n",
       "Gujarat           10\n",
       "Madhya Pradesh     9\n",
       "Haryana            8\n",
       "Name: State, dtype: int64"
      ]
     },
     "execution_count": 47,
     "metadata": {},
     "output_type": "execute_result"
    }
   ],
   "source": [
    "procat['State'].value_counts()[0:10]"
   ]
  },
  {
   "cell_type": "code",
   "execution_count": 43,
   "id": "ccca518b",
   "metadata": {},
   "outputs": [
    {
     "data": {
      "text/plain": [
       "Tier-II     95\n",
       "Tier-I      69\n",
       "Tier-III    36\n",
       "Name: City, dtype: int64"
      ]
     },
     "execution_count": 43,
     "metadata": {},
     "output_type": "execute_result"
    }
   ],
   "source": [
    "procat['City'].value_counts()"
   ]
  },
  {
   "cell_type": "code",
   "execution_count": 46,
   "id": "45ecc543",
   "metadata": {},
   "outputs": [
    {
     "data": {
      "text/plain": [
       "19    13\n",
       "24    13\n",
       "30    11\n",
       "22    11\n",
       "29    10\n",
       "26     9\n",
       "Name: Age, dtype: int64"
      ]
     },
     "execution_count": 46,
     "metadata": {},
     "output_type": "execute_result"
    }
   ],
   "source": [
    "procat['Age'].value_counts()[0:6]"
   ]
  },
  {
   "cell_type": "code",
   "execution_count": 48,
   "id": "6c9002f0",
   "metadata": {},
   "outputs": [
    {
     "data": {
      "text/plain": [
       "['pTron lite earphones ',\n",
       " 'Color fit pro smartwatch',\n",
       " 'Fogg perfume for men',\n",
       " 'Amazon Prime subscription',\n",
       " 'Fire bolt headphones',\n",
       " 'Fifty shades of Grey ',\n",
       " 'Leather wallet for men',\n",
       " \"Men's shoes sneakers\"]"
      ]
     },
     "execution_count": 48,
     "metadata": {},
     "output_type": "execute_result"
    }
   ],
   "source": [
    "list(procat['Product category '].value_counts().keys())"
   ]
  },
  {
   "cell_type": "code",
   "execution_count": 61,
   "id": "c4d124ea",
   "metadata": {},
   "outputs": [
    {
     "data": {
      "image/png": "[encoded data removed]",
      "text/plain": [
       "<Figure size 1512x720 with 1 Axes>"
      ]
     },
     "metadata": {
      "needs_background": "light"
     },
     "output_type": "display_data"
    }
   ],
   "source": [
    "plt.figure(figsize=(21,10))\n",
    "plt.bar(list(procat['Product category '].value_counts().keys()),list(procat['Product category '].value_counts()),color=[\"violet\",\"indigo\",\"blue\",\"green\",\"yellow\",\"orange\",\"red\",\"aqua\"])\n",
    "plt.show()"
   ]
  },
  {
   "cell_type": "code",
   "execution_count": 60,
   "id": "2640e1dc",
   "metadata": {},
   "outputs": [
    {
     "data": {
      "image/png": "[encoded data removed]",
      "text/plain": [
       "<Figure size 1440x504 with 1 Axes>"
      ]
     },
     "metadata": {
      "needs_background": "light"
     },
     "output_type": "display_data"
    }
   ],
   "source": [
    "plt.figure(figsize=(20,7))\n",
    "plt.hist(procat['Product category '])\n",
    "plt.title(\"Impact of Age\")\n",
    "plt.xlabel(\"Product Category\")\n",
    "plt.ylabel(\"Age\")\n",
    "plt.show()"
   ]
  },
  {
   "cell_type": "code",
   "execution_count": 75,
   "id": "da6a29c4",
   "metadata": {},
   "outputs": [
    {
     "data": {
      "image/png": "[encoded data removed]",
      "text/plain": [
       "<Figure size 432x432 with 1 Axes>"
      ]
     },
     "metadata": {},
     "output_type": "display_data"
    }
   ],
   "source": [
    "plt.figure(figsize=(6,6))\n",
    "plt.pie(list(procat['Product category '].value_counts()),labels=list(procat['Product category '].value_counts().keys()),autopct='%0.1f%%')\n",
    "plt.show()"
   ]
  },
  {
   "cell_type": "code",
   "execution_count": 76,
   "id": "adafdadd",
   "metadata": {},
   "outputs": [
    {
     "ename": "SyntaxError",
     "evalue": "invalid syntax (<ipython-input-76-1a68589405fc>, line 1)",
     "output_type": "error",
     "traceback": [
      "\u001b[1;36m  File \u001b[1;32m\"<ipython-input-76-1a68589405fc>\"\u001b[1;36m, line \u001b[1;32m1\u001b[0m\n\u001b[1;33m    plt.pie(procat,labels=Product category , radius=2)\u001b[0m\n\u001b[1;37m                                  ^\u001b[0m\n\u001b[1;31mSyntaxError\u001b[0m\u001b[1;31m:\u001b[0m invalid syntax\n"
     ]
    }
   ],
   "source": [
    "plt.pie(procat,labels=Product category , radius=2)\n",
    "plt.pie([1],colors=['white'],radius=1)\n",
    "plt.show()"
   ]
  },
  {
   "cell_type": "code",
   "execution_count": null,
   "id": "231eac6f",
   "metadata": {},
   "outputs": [],
   "source": []
  }
 ],
 "metadata": {
  "kernelspec": {
   "display_name": "Python 3",
   "language": "python",
   "name": "python3"
  },
  "language_info": {
   "codemirror_mode": {
    "name": "ipython",
    "version": 3
   },
   "file_extension": ".py",
   "mimetype": "text/x-python",
   "name": "python",
   "nbconvert_exporter": "python",
   "pygments_lexer": "ipython3",
   "version": "3.8.8"
  }
 },
 "nbformat": 4,
 "nbformat_minor": 5
}
